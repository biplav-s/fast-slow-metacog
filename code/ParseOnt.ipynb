{
 "cells": [
  {
   "cell_type": "code",
   "execution_count": 1,
   "metadata": {},
   "outputs": [],
   "source": [
    "# Using OwlReady2 - https://pypi.org/project/Owlready2/"
   ]
  },
  {
   "cell_type": "code",
   "execution_count": 2,
   "metadata": {},
   "outputs": [
    {
     "name": "stdout",
     "output_type": "stream",
     "text": [
      "Collecting Owlready2\n",
      "  Downloading Owlready2-0.31.tar.gz (23.7 MB)\n",
      "\u001b[K     |████████████████████████████████| 23.7 MB 1.9 MB/s eta 0:00:01\n",
      "\u001b[?25hBuilding wheels for collected packages: Owlready2\n",
      "  Building wheel for Owlready2 (setup.py) ... \u001b[?25ldone\n",
      "\u001b[?25h  Created wheel for Owlready2: filename=Owlready2-0.31-cp37-cp37m-macosx_10_9_x86_64.whl size=19955689 sha256=a9ca1fad8db4463fb609ababc891842713b2e4fd267e9ce87a175e251b12f18d\n",
      "  Stored in directory: /Users/biplavs/Library/Caches/pip/wheels/f9/65/65/e6bec1391611b5c81201b680c221870b91a6a062bb6ca5ff32\n",
      "Successfully built Owlready2\n",
      "Installing collected packages: Owlready2\n",
      "Successfully installed Owlready2-0.31\n"
     ]
    }
   ],
   "source": [
    "## Do if not installed \n",
    "# !pip install Owlready2"
   ]
  },
  {
   "cell_type": "code",
   "execution_count": 3,
   "metadata": {},
   "outputs": [],
   "source": [
    "from owlready2 import *"
   ]
  },
  {
   "cell_type": "code",
   "execution_count": 5,
   "metadata": {},
   "outputs": [
    {
     "data": {
      "text/plain": [
       "get_ontology(\"http://www.semanticweb.org/jonathanlenchner/ontologies/2021/4/tasks#\")"
      ]
     },
     "execution_count": 5,
     "metadata": {},
     "output_type": "execute_result"
    }
   ],
   "source": [
    "onto = get_ontology(\"../data/tasks.owl\")\n",
    "onto.load()"
   ]
  },
  {
   "cell_type": "code",
   "execution_count": 6,
   "metadata": {},
   "outputs": [
    {
     "data": {
      "text/plain": [
       "[tasks.Behavioral_Modeling_Task,\n",
       " tasks.Task,\n",
       " tasks.Chance_Game,\n",
       " tasks.Game,\n",
       " tasks.Chess,\n",
       " tasks.No_Chance_Game,\n",
       " tasks.Perfect_Information_Game,\n",
       " tasks.Sequential_Game,\n",
       " tasks.Two_Person_Game,\n",
       " tasks.Zero_Sum_Game,\n",
       " tasks.2_Player_Prisoner's_Dilemma,\n",
       " tasks.Classification_Task,\n",
       " tasks.Epistemic_Planning_Task,\n",
       " tasks.Planning_Task,\n",
       " tasks.Geometric_Task,\n",
       " tasks.Grid_World_Task,\n",
       " tasks.Imperfect_Information_Game,\n",
       " tasks.Multi_Criteria_Decision,\n",
       " tasks.Non_Sequential_Game,\n",
       " tasks.Non_Zero_Sum_Game,\n",
       " tasks.Question_Answering,\n",
       " tasks.Text_Task,\n",
       " tasks.Solitaire_Game,\n",
       " tasks.Text_Summarization,\n",
       " tasks.Text_World_Task,\n",
       " tasks.Two_Or_More_Person_Game]"
      ]
     },
     "execution_count": 6,
     "metadata": {},
     "output_type": "execute_result"
    }
   ],
   "source": [
    "# Getting the list of classes\n",
    "list(onto.classes())"
   ]
  },
  {
   "cell_type": "code",
   "execution_count": 7,
   "metadata": {},
   "outputs": [
    {
     "data": {
      "text/plain": [
       "[tasks.Behavioral_Modeling_Task, tasks.Classification_Task, tasks.Epistemic_Planning_Task, tasks.Planning_Task, tasks.Geometric_Task, tasks.Grid_World_Task, tasks.Text_Task, tasks.Text_World_Task]"
      ]
     },
     "execution_count": 7,
     "metadata": {},
     "output_type": "execute_result"
    }
   ],
   "source": [
    "# Searching in a number of ways\n",
    "# Details: https://pythonhosted.org/Owlready2/onto.html#accessing-the-content-of-an-ontology\n",
    "# - iri, for searching entities by its full IRI\n",
    "# - type, for searching Individuals of a given Class\n",
    "# - subclass_of, for searching subclasses of a given Class\n",
    "# - is_a, for searching both Individuals and subclasses of a given Class\n",
    "# - any object, data or annotation property name\n",
    "onto.search(iri = \"*_Task\")"
   ]
  },
  {
   "cell_type": "code",
   "execution_count": 8,
   "metadata": {},
   "outputs": [
    {
     "data": {
      "text/plain": [
       "owlready2.namespace.Ontology"
      ]
     },
     "execution_count": 8,
     "metadata": {},
     "output_type": "execute_result"
    }
   ],
   "source": [
    "# Knowing the root\n",
    "onto.__class__"
   ]
  },
  {
   "cell_type": "code",
   "execution_count": null,
   "metadata": {},
   "outputs": [],
   "source": []
  }
 ],
 "metadata": {
  "kernelspec": {
   "display_name": "Python 3",
   "language": "python",
   "name": "python3"
  },
  "language_info": {
   "codemirror_mode": {
    "name": "ipython",
    "version": 3
   },
   "file_extension": ".py",
   "mimetype": "text/x-python",
   "name": "python",
   "nbconvert_exporter": "python",
   "pygments_lexer": "ipython3",
   "version": "3.7.6"
  }
 },
 "nbformat": 4,
 "nbformat_minor": 4
}
