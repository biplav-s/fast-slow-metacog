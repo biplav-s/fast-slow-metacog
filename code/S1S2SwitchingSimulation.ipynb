{
 "cells": [
  {
   "cell_type": "code",
   "execution_count": 1,
   "metadata": {},
   "outputs": [],
   "source": [
    "# Reference: Pomegranate library usage\n",
    "#  - https://github.com/biplav-s/course-d2d-ai/blob/main/sample-code/l17-uncertainty/DecisionMaking%20Uncertainty.ipynb\n",
    "#  - https://github.com/jmschrei/pomegranate/blob/master/tutorials/B_Model_Tutorial_1_Distributions.ipynb"
   ]
  },
  {
   "cell_type": "code",
   "execution_count": 2,
   "metadata": {},
   "outputs": [],
   "source": [
    "## Install as needed\n",
    "# !pip install pomegranate"
   ]
  },
  {
   "cell_type": "code",
   "execution_count": 3,
   "metadata": {},
   "outputs": [],
   "source": [
    "# Imports and setup\n",
    "%matplotlib inline\n",
    "import matplotlib.pyplot as plt\n",
    "import seaborn; seaborn.set_style('whitegrid')\n",
    "import numpy\n",
    "\n",
    "from pomegranate import *\n"
   ]
  },
  {
   "cell_type": "code",
   "execution_count": 6,
   "metadata": {},
   "outputs": [],
   "source": [
    "# Initially the door selected by the guest is completely random\n",
    "s1_actions = DiscreteDistribution( { 'a1': 1./4, 'a2': 3./4} )\n",
    "s2_actions = DiscreteDistribution( { 'a1': 1./2, 'a2': 1./2} )"
   ]
  },
  {
   "cell_type": "code",
   "execution_count": 8,
   "metadata": {},
   "outputs": [
    {
     "name": "stdout",
     "output_type": "stream",
     "text": [
      "a2\n",
      "a1\n",
      "a2\n",
      "a1\n",
      "a2\n",
      "a1\n",
      "a2\n",
      "a2\n",
      "a2\n",
      "a1\n"
     ]
    }
   ],
   "source": [
    "# Checking out some sample data\n",
    "for i in range(10):\n",
    "    print (s1_actions.sample())"
   ]
  },
  {
   "cell_type": "code",
   "execution_count": 9,
   "metadata": {},
   "outputs": [
    {
     "name": "stdout",
     "output_type": "stream",
     "text": [
      "0.25\n"
     ]
    }
   ],
   "source": [
    "# Docs: https://pomegranate.readthedocs.io/en/latest/Distributions.html#pomegranate.distributions.DiscreteDistribution\n",
    "# Getting probability of an action\n",
    "print (s1_actions.probability('a1'))"
   ]
  },
  {
   "cell_type": "code",
   "execution_count": null,
   "metadata": {},
   "outputs": [],
   "source": []
  }
 ],
 "metadata": {
  "kernelspec": {
   "display_name": "Python 3",
   "language": "python",
   "name": "python3"
  },
  "language_info": {
   "codemirror_mode": {
    "name": "ipython",
    "version": 3
   },
   "file_extension": ".py",
   "mimetype": "text/x-python",
   "name": "python",
   "nbconvert_exporter": "python",
   "pygments_lexer": "ipython3",
   "version": "3.7.6"
  }
 },
 "nbformat": 4,
 "nbformat_minor": 4
}
