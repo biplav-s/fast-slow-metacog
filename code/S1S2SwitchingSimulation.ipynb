{
 "cells": [
  {
   "cell_type": "code",
   "execution_count": 1,
   "metadata": {},
   "outputs": [],
   "source": [
    "# Reference: Pomegranate library usage\n",
    "#  - https://github.com/biplav-s/course-d2d-ai/blob/main/sample-code/l17-uncertainty/DecisionMaking%20Uncertainty.ipynb\n",
    "#  - https://github.com/jmschrei/pomegranate/blob/master/tutorials/B_Model_Tutorial_1_Distributions.ipynb"
   ]
  },
  {
   "cell_type": "code",
   "execution_count": 2,
   "metadata": {},
   "outputs": [
    {
     "name": "stdout",
     "output_type": "stream",
     "text": [
      "Requirement already satisfied: pomegranate in /Users/biplavs/opt/anaconda3/lib/python3.7/site-packages (0.14.2)\n",
      "Requirement already satisfied: joblib>=0.9.0b4 in /Users/biplavs/opt/anaconda3/lib/python3.7/site-packages (from pomegranate) (0.14.1)\n",
      "Requirement already satisfied: scipy>=0.17.0 in /Users/biplavs/opt/anaconda3/lib/python3.7/site-packages (from pomegranate) (1.4.1)\n",
      "Requirement already satisfied: pyyaml in /Users/biplavs/opt/anaconda3/lib/python3.7/site-packages (from pomegranate) (5.3)\n",
      "Requirement already satisfied: networkx>=2.0 in /Users/biplavs/opt/anaconda3/lib/python3.7/site-packages (from pomegranate) (2.4)\n",
      "Requirement already satisfied: numpy>=1.20.0 in /Users/biplavs/opt/anaconda3/lib/python3.7/site-packages (from pomegranate) (1.21.2)\n",
      "Requirement already satisfied: decorator>=4.3.0 in /Users/biplavs/opt/anaconda3/lib/python3.7/site-packages (from networkx>=2.0->pomegranate) (4.4.1)\n"
     ]
    }
   ],
   "source": [
    "## Install as needed\n",
    "!pip install pomegranate"
   ]
  },
  {
   "cell_type": "code",
   "execution_count": 3,
   "metadata": {},
   "outputs": [],
   "source": [
    "# Imports and setup\n",
    "%matplotlib inline\n",
    "import matplotlib.pyplot as plt\n",
    "import seaborn; seaborn.set_style('whitegrid')\n",
    "import numpy\n",
    "\n",
    "from pomegranate import *\n"
   ]
  },
  {
   "cell_type": "code",
   "execution_count": null,
   "metadata": {},
   "outputs": [],
   "source": []
  }
 ],
 "metadata": {
  "kernelspec": {
   "display_name": "Python 3",
   "language": "python",
   "name": "python3"
  },
  "language_info": {
   "codemirror_mode": {
    "name": "ipython",
    "version": 3
   },
   "file_extension": ".py",
   "mimetype": "text/x-python",
   "name": "python",
   "nbconvert_exporter": "python",
   "pygments_lexer": "ipython3",
   "version": "3.7.6"
  }
 },
 "nbformat": 4,
 "nbformat_minor": 4
}
