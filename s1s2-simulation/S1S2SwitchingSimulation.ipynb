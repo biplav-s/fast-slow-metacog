{
 "cells": [
  {
   "cell_type": "code",
   "execution_count": 1,
   "metadata": {},
   "outputs": [],
   "source": [
    "# Metacognition setup to implement\n",
    "# - https://docs.google.com/document/d/1oNY2kSwMGya3hb562XIk6HuD-OU7cwvRo5--rTvMa58/edit"
   ]
  },
  {
   "cell_type": "code",
   "execution_count": 2,
   "metadata": {},
   "outputs": [],
   "source": [
    "## Model for MC, Solver, World from s1s2model.py file"
   ]
  },
  {
   "cell_type": "code",
   "execution_count": 3,
   "metadata": {},
   "outputs": [],
   "source": [
    "import s1s2model as s1s2"
   ]
  },
  {
   "cell_type": "code",
   "execution_count": 4,
   "metadata": {},
   "outputs": [
    {
     "name": "stdout",
     "output_type": "stream",
     "text": [
      "Solver class instantiated\n",
      "name:  S1\n",
      "solver_type: S1\n",
      "solver_output_action: default_action\n",
      "solver_output_confidence: 0.5\n",
      "solver_output_reward: 1.0\n",
      "solver_time_taken: 1.0\n"
     ]
    }
   ],
   "source": [
    "# Instantiate S1\n",
    "s1 = s1s2.Solver()\n",
    "s1.name = \"S1\"\n",
    "s1.printSolver()"
   ]
  },
  {
   "cell_type": "code",
   "execution_count": 5,
   "metadata": {},
   "outputs": [
    {
     "name": "stdout",
     "output_type": "stream",
     "text": [
      "Solver class instantiated\n",
      "name:  S2\n",
      "solver_type: S2\n",
      "solver_output_action: default_action\n",
      "solver_output_confidence: 1.0\n",
      "solver_output_reward: 1.0\n",
      "solver_time_taken: 3\n"
     ]
    }
   ],
   "source": [
    "# Instantiate S2\n",
    "s2 = s1s2.Solver()\n",
    "s2.name = \"S2\"\n",
    "s2.solver_type = \"S2\"\n",
    "s2.solver_output_confidence = 1.0\n",
    "s2.solver_time_taken = 3\n",
    "s2.printSolver()"
   ]
  },
  {
   "cell_type": "code",
   "execution_count": 6,
   "metadata": {},
   "outputs": [
    {
     "name": "stdout",
     "output_type": "stream",
     "text": [
      "MC class instantiated\n",
      "solvers:  []\n",
      "mc_value: 1.0\n",
      "solver_choice: None\n",
      "reliability_values: {}\n",
      "solver_costs: {}\n"
     ]
    }
   ],
   "source": [
    "# Instantiate MC\n",
    "mc = s1s2.MC()\n",
    "mc.printMC()"
   ]
  },
  {
   "cell_type": "code",
   "execution_count": 7,
   "metadata": {},
   "outputs": [
    {
     "name": "stdout",
     "output_type": "stream",
     "text": [
      "solvers:  [<s1s2model.Solver object at 0x7faf9810a510>, <s1s2model.Solver object at 0x7faf9810a650>]\n",
      "mc_value: 1.0\n",
      "solver_choice: None\n",
      "reliability_values: {'S1': 0.5, 'S2': 1.0}\n",
      "solver_costs: {'S1': 1.0, 'S2': 3}\n"
     ]
    }
   ],
   "source": [
    "# Now configure MC with instantiated solvers\n",
    "mc.solvers.append(s1)\n",
    "mc.reliability_values[s1.name] = s1.solver_output_reward * s1.solver_output_confidence\n",
    "mc.solver_costs[s1.name] = s1.solver_time_taken \n",
    "mc.solvers.append(s2)\n",
    "mc.reliability_values[s2.name] = s2.solver_output_reward * s2.solver_output_confidence\n",
    "mc.solver_costs[s2.name] = s2.solver_time_taken \n",
    "# Now print\n",
    "mc.printMC()"
   ]
  },
  {
   "cell_type": "code",
   "execution_count": 8,
   "metadata": {},
   "outputs": [
    {
     "name": "stdout",
     "output_type": "stream",
     "text": [
      "Agent System class instantiated\n",
      "mc:  <s1s2model.MC object at 0x7faf9810a8d0>\n",
      "current_time: 0\n",
      "aggregate_reward: 0\n",
      "aggregate_cost: 0\n",
      "aggregate_duration: 0\n"
     ]
    }
   ],
   "source": [
    "# Instantiate AgentSystem\n",
    "a = s1s2.AgentSystem()\n",
    "a.mc = mc\n",
    "a.printAgentSystem()"
   ]
  },
  {
   "cell_type": "code",
   "execution_count": 16,
   "metadata": {},
   "outputs": [
    {
     "name": "stdout",
     "output_type": "stream",
     "text": [
      " -> decision# = 0, solver = 1, duration = 3,  agg. reward = 1.0\n",
      " -> decision# = 1, solver = 0, duration = 4.0,  agg. reward = 2.0\n",
      " -> decision# = 2, solver = 1, duration = 7.0,  agg. reward = 3.0\n",
      " -> decision# = 3, solver = 1, duration = 10.0,  agg. reward = 4.0\n",
      " -> decision# = 4, solver = 0, duration = 11.0,  agg. reward = 5.0\n",
      " -> decision# = 5, solver = 1, duration = 14.0,  agg. reward = 6.0\n",
      " -> decision# = 6, solver = 0, duration = 15.0,  agg. reward = 7.0\n",
      " -> decision# = 7, solver = 1, duration = 18.0,  agg. reward = 8.0\n",
      " -> decision# = 8, solver = 1, duration = 21.0,  agg. reward = 9.0\n",
      " -> decision# = 9, solver = 0, duration = 22.0,  agg. reward = 10.0\n"
     ]
    }
   ],
   "source": [
    "# Now run the AgentSystem for sometime\n",
    "a.reset()\n",
    "a.runSimulation(10)"
   ]
  },
  {
   "cell_type": "code",
   "execution_count": 17,
   "metadata": {},
   "outputs": [
    {
     "name": "stdout",
     "output_type": "stream",
     "text": [
      "mc:  <s1s2model.MC object at 0x7faf9810a8d0>\n",
      "current_time: 22.0\n",
      "aggregate_reward: 10.0\n",
      "aggregate_cost: 0\n",
      "aggregate_duration: 22.0\n"
     ]
    }
   ],
   "source": [
    "# Print status at the end\n",
    "a.printAgentSystem()"
   ]
  },
  {
   "cell_type": "code",
   "execution_count": 18,
   "metadata": {},
   "outputs": [
    {
     "data": {
      "text/plain": [
       "[[0, 1, 3, 1.0],\n",
       " [1, 0, 4.0, 2.0],\n",
       " [2, 1, 7.0, 3.0],\n",
       " [3, 1, 10.0, 4.0],\n",
       " [4, 0, 11.0, 5.0],\n",
       " [5, 1, 14.0, 6.0],\n",
       " [6, 0, 15.0, 7.0],\n",
       " [7, 1, 18.0, 8.0],\n",
       " [8, 1, 21.0, 9.0],\n",
       " [9, 0, 22.0, 10.0]]"
      ]
     },
     "execution_count": 18,
     "metadata": {},
     "output_type": "execute_result"
    }
   ],
   "source": [
    "a.decision_stats"
   ]
  },
  {
   "cell_type": "code",
   "execution_count": 19,
   "metadata": {},
   "outputs": [],
   "source": [
    "# Display figures\n",
    "import matplotlib.pyplot as plt\n",
    "import seaborn as sns\n",
    "# Use seaborn style defaults; set the default figure size\n",
    "sns.set(rc={'figure.figsize':(11, 4)})\n"
   ]
  },
  {
   "cell_type": "code",
   "execution_count": 20,
   "metadata": {},
   "outputs": [],
   "source": [
    "import pandas as pd"
   ]
  },
  {
   "cell_type": "code",
   "execution_count": 21,
   "metadata": {},
   "outputs": [
    {
     "data": {
      "text/html": [
       "<div>\n",
       "<style scoped>\n",
       "    .dataframe tbody tr th:only-of-type {\n",
       "        vertical-align: middle;\n",
       "    }\n",
       "\n",
       "    .dataframe tbody tr th {\n",
       "        vertical-align: top;\n",
       "    }\n",
       "\n",
       "    .dataframe thead th {\n",
       "        text-align: right;\n",
       "    }\n",
       "</style>\n",
       "<table border=\"1\" class=\"dataframe\">\n",
       "  <thead>\n",
       "    <tr style=\"text-align: right;\">\n",
       "      <th></th>\n",
       "      <th>instance</th>\n",
       "      <th>solver</th>\n",
       "      <th>duration</th>\n",
       "      <th>reward</th>\n",
       "    </tr>\n",
       "  </thead>\n",
       "  <tbody>\n",
       "    <tr>\n",
       "      <th>0</th>\n",
       "      <td>0</td>\n",
       "      <td>1</td>\n",
       "      <td>3.0</td>\n",
       "      <td>1.0</td>\n",
       "    </tr>\n",
       "    <tr>\n",
       "      <th>1</th>\n",
       "      <td>1</td>\n",
       "      <td>0</td>\n",
       "      <td>4.0</td>\n",
       "      <td>2.0</td>\n",
       "    </tr>\n",
       "    <tr>\n",
       "      <th>2</th>\n",
       "      <td>2</td>\n",
       "      <td>1</td>\n",
       "      <td>7.0</td>\n",
       "      <td>3.0</td>\n",
       "    </tr>\n",
       "    <tr>\n",
       "      <th>3</th>\n",
       "      <td>3</td>\n",
       "      <td>1</td>\n",
       "      <td>10.0</td>\n",
       "      <td>4.0</td>\n",
       "    </tr>\n",
       "    <tr>\n",
       "      <th>4</th>\n",
       "      <td>4</td>\n",
       "      <td>0</td>\n",
       "      <td>11.0</td>\n",
       "      <td>5.0</td>\n",
       "    </tr>\n",
       "    <tr>\n",
       "      <th>5</th>\n",
       "      <td>5</td>\n",
       "      <td>1</td>\n",
       "      <td>14.0</td>\n",
       "      <td>6.0</td>\n",
       "    </tr>\n",
       "    <tr>\n",
       "      <th>6</th>\n",
       "      <td>6</td>\n",
       "      <td>0</td>\n",
       "      <td>15.0</td>\n",
       "      <td>7.0</td>\n",
       "    </tr>\n",
       "    <tr>\n",
       "      <th>7</th>\n",
       "      <td>7</td>\n",
       "      <td>1</td>\n",
       "      <td>18.0</td>\n",
       "      <td>8.0</td>\n",
       "    </tr>\n",
       "    <tr>\n",
       "      <th>8</th>\n",
       "      <td>8</td>\n",
       "      <td>1</td>\n",
       "      <td>21.0</td>\n",
       "      <td>9.0</td>\n",
       "    </tr>\n",
       "    <tr>\n",
       "      <th>9</th>\n",
       "      <td>9</td>\n",
       "      <td>0</td>\n",
       "      <td>22.0</td>\n",
       "      <td>10.0</td>\n",
       "    </tr>\n",
       "  </tbody>\n",
       "</table>\n",
       "</div>"
      ],
      "text/plain": [
       "   instance  solver  duration  reward\n",
       "0         0       1       3.0     1.0\n",
       "1         1       0       4.0     2.0\n",
       "2         2       1       7.0     3.0\n",
       "3         3       1      10.0     4.0\n",
       "4         4       0      11.0     5.0\n",
       "5         5       1      14.0     6.0\n",
       "6         6       0      15.0     7.0\n",
       "7         7       1      18.0     8.0\n",
       "8         8       1      21.0     9.0\n",
       "9         9       0      22.0    10.0"
      ]
     },
     "execution_count": 21,
     "metadata": {},
     "output_type": "execute_result"
    }
   ],
   "source": [
    "cols = ['instance', 'solver', 'duration', 'reward']\n",
    "df = pd.DataFrame(a.decision_stats, columns=cols)\n",
    "df"
   ]
  },
  {
   "cell_type": "code",
   "execution_count": 22,
   "metadata": {},
   "outputs": [
    {
     "data": {
      "image/png": "[encoded data removed]",
      "text/plain": [
       "<Figure size 792x648 with 2 Axes>"
      ]
     },
     "metadata": {},
     "output_type": "display_data"
    }
   ],
   "source": [
    "# Multiple information about aggregate\n",
    "cols_plot = ['duration', 'reward']\n",
    "axes = df[cols_plot].plot(marker='.', alpha=0.5, linestyle='None', figsize=(11, 9), subplots=True)\n",
    "for ax in axes:\n",
    "    ax.set_ylabel('Aggregate')"
   ]
  },
  {
   "cell_type": "markdown",
   "metadata": {},
   "source": [
    "# More Complex Behavior"
   ]
  },
  {
   "cell_type": "code",
   "execution_count": 23,
   "metadata": {},
   "outputs": [],
   "source": [
    "# Reference: Pomegranate library usage\n",
    "#  - https://github.com/biplav-s/course-d2d-ai/blob/main/sample-code/l17-uncertainty/DecisionMaking%20Uncertainty.ipynb\n",
    "#  - https://github.com/jmschrei/pomegranate/blob/master/tutorials/B_Model_Tutorial_1_Distributions.ipynb"
   ]
  },
  {
   "cell_type": "code",
   "execution_count": 24,
   "metadata": {},
   "outputs": [],
   "source": [
    "## Install as needed\n",
    "#!pip install pomegranate"
   ]
  },
  {
   "cell_type": "code",
   "execution_count": 25,
   "metadata": {},
   "outputs": [],
   "source": [
    "# Imports and setup\n",
    "%matplotlib inline\n",
    "import matplotlib.pyplot as plt\n",
    "import seaborn; seaborn.set_style('whitegrid')\n",
    "import numpy\n",
    "\n",
    "from pomegranate import *\n"
   ]
  },
  {
   "cell_type": "code",
   "execution_count": 26,
   "metadata": {},
   "outputs": [],
   "source": [
    "# Initially the door selected by the guest is completely random\n",
    "s1_actions = DiscreteDistribution( { 'a1': 1./4, 'a2': 3./4} )\n",
    "s2_actions = DiscreteDistribution( { 'a1': 1./2, 'a2': 1./2} )"
   ]
  },
  {
   "cell_type": "code",
   "execution_count": 27,
   "metadata": {},
   "outputs": [
    {
     "name": "stdout",
     "output_type": "stream",
     "text": [
      "a2\n",
      "a2\n",
      "a2\n",
      "a2\n",
      "a1\n",
      "a2\n",
      "a1\n",
      "a2\n",
      "a1\n",
      "a2\n"
     ]
    }
   ],
   "source": [
    "# Checking out some sample data\n",
    "for i in range(10):\n",
    "    print (s1_actions.sample())"
   ]
  },
  {
   "cell_type": "code",
   "execution_count": 28,
   "metadata": {},
   "outputs": [
    {
     "name": "stdout",
     "output_type": "stream",
     "text": [
      "0.25\n"
     ]
    }
   ],
   "source": [
    "# Docs: https://pomegranate.readthedocs.io/en/latest/Distributions.html#pomegranate.distributions.DiscreteDistribution\n",
    "# Getting probability of an action\n",
    "print (s1_actions.probability('a1'))"
   ]
  },
  {
   "cell_type": "code",
   "execution_count": null,
   "metadata": {},
   "outputs": [],
   "source": []
  },
  {
   "cell_type": "code",
   "execution_count": null,
   "metadata": {},
   "outputs": [],
   "source": []
  }
 ],
 "metadata": {
  "kernelspec": {
   "display_name": "Python 3",
   "language": "python",
   "name": "python3"
  },
  "language_info": {
   "codemirror_mode": {
    "name": "ipython",
    "version": 3
   },
   "file_extension": ".py",
   "mimetype": "text/x-python",
   "name": "python",
   "nbconvert_exporter": "python",
   "pygments_lexer": "ipython3",
   "version": "3.7.6"
  }
 },
 "nbformat": 4,
 "nbformat_minor": 4
}
