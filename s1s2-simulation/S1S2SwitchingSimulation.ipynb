{
 "cells": [
  {
   "cell_type": "code",
   "execution_count": 1,
   "metadata": {},
   "outputs": [],
   "source": [
    "# Metacognition setup to implement\n",
    "# - https://docs.google.com/document/d/1oNY2kSwMGya3hb562XIk6HuD-OU7cwvRo5--rTvMa58/edit"
   ]
  },
  {
   "cell_type": "code",
   "execution_count": 2,
   "metadata": {},
   "outputs": [],
   "source": [
    "## Model for MC, Solver, World from s1s2model.py file"
   ]
  },
  {
   "cell_type": "code",
   "execution_count": 3,
   "metadata": {},
   "outputs": [],
   "source": [
    "import s1s2model as s1s2"
   ]
  },
  {
   "cell_type": "code",
   "execution_count": 4,
   "metadata": {},
   "outputs": [
    {
     "name": "stdout",
     "output_type": "stream",
     "text": [
      "Solver class instantiated\n",
      "name:  S1\n",
      "solver_type: S1\n",
      "solver_output_action: default_action\n",
      "solver_output_confidence: 0.5\n",
      "solver_output_reward: 1.0\n",
      "solver_time_taken: 1.0\n"
     ]
    }
   ],
   "source": [
    "# Instantiate S1\n",
    "s1 = s1s2.Solver()\n",
    "s1.name = \"S1\"\n",
    "s1.printSolver()"
   ]
  },
  {
   "cell_type": "code",
   "execution_count": 5,
   "metadata": {},
   "outputs": [
    {
     "name": "stdout",
     "output_type": "stream",
     "text": [
      "Solver class instantiated\n",
      "name:  S2\n",
      "solver_type: S2\n",
      "solver_output_action: default_action\n",
      "solver_output_confidence: 1.0\n",
      "solver_output_reward: 1.0\n",
      "solver_time_taken: 3\n"
     ]
    }
   ],
   "source": [
    "# Instantiate S2\n",
    "s2 = s1s2.Solver()\n",
    "s2.name = \"S2\"\n",
    "s2.solver_type = \"S2\"\n",
    "s2.solver_output_confidence = 1.0\n",
    "s2.solver_time_taken = 3\n",
    "s2.printSolver()"
   ]
  },
  {
   "cell_type": "code",
   "execution_count": 6,
   "metadata": {},
   "outputs": [
    {
     "name": "stdout",
     "output_type": "stream",
     "text": [
      "MC class instantiated\n",
      "solvers:  []\n",
      "mc_value: 1.0\n",
      "solver_choice: None\n",
      "reliability_values: {}\n",
      "solver_costs: {}\n"
     ]
    }
   ],
   "source": [
    "# Instantiate MC\n",
    "mc = s1s2.MC()\n",
    "mc.printMC()"
   ]
  },
  {
   "cell_type": "code",
   "execution_count": 7,
   "metadata": {},
   "outputs": [
    {
     "name": "stdout",
     "output_type": "stream",
     "text": [
      "solvers:  [<s1s2model.Solver object at 0x7f8025c52f10>, <s1s2model.Solver object at 0x7f8025c67160>]\n",
      "mc_value: 1.0\n",
      "solver_choice: None\n",
      "reliability_values: {'S1': 0.5, 'S2': 1.0}\n",
      "solver_costs: {'S1': 1.0, 'S2': 3}\n"
     ]
    }
   ],
   "source": [
    "# Now configure MC with instantiated solvers\n",
    "mc.solvers.append(s1)\n",
    "mc.reliability_values[s1.name] = s1.solver_output_reward * s1.solver_output_confidence\n",
    "mc.solver_costs[s1.name] = s1.solver_time_taken \n",
    "mc.solvers.append(s2)\n",
    "mc.reliability_values[s2.name] = s2.solver_output_reward * s2.solver_output_confidence\n",
    "mc.solver_costs[s2.name] = s2.solver_time_taken \n",
    "# Now print\n",
    "mc.printMC()"
   ]
  },
  {
   "cell_type": "code",
   "execution_count": 8,
   "metadata": {},
   "outputs": [
    {
     "name": "stdout",
     "output_type": "stream",
     "text": [
      "Agent System class instantiated\n",
      "mc:  <s1s2model.MC object at 0x7f8025c52d00>\n",
      "current_time: 0\n",
      "aggregate_reward: 0\n",
      "aggregate_cost: 0\n",
      "aggregate_duration: 0\n"
     ]
    }
   ],
   "source": [
    "# Instantiate AgentSystem\n",
    "a = s1s2.AgentSystem()\n",
    "a.mc = mc\n",
    "a.printAgentSystem()"
   ]
  },
  {
   "cell_type": "code",
   "execution_count": 9,
   "metadata": {},
   "outputs": [
    {
     "name": "stdout",
     "output_type": "stream",
     "text": [
      " -> sim = 0, solver = 1, duration = 3,  agg. reward = 1.0\n",
      " -> sim = 1, solver = 1, duration = 6,  agg. reward = 2.0\n",
      " -> sim = 2, solver = 0, duration = 7.0,  agg. reward = 3.0\n",
      " -> sim = 3, solver = 0, duration = 8.0,  agg. reward = 4.0\n",
      " -> sim = 4, solver = 1, duration = 11.0,  agg. reward = 5.0\n",
      " -> sim = 5, solver = 1, duration = 14.0,  agg. reward = 6.0\n",
      " -> sim = 6, solver = 1, duration = 17.0,  agg. reward = 7.0\n",
      " -> sim = 7, solver = 0, duration = 18.0,  agg. reward = 8.0\n",
      " -> sim = 8, solver = 0, duration = 19.0,  agg. reward = 9.0\n",
      " -> sim = 9, solver = 0, duration = 20.0,  agg. reward = 10.0\n"
     ]
    }
   ],
   "source": [
    "# Now run the AgentSystem for sometime\n",
    "a.runSimulation(10)"
   ]
  },
  {
   "cell_type": "code",
   "execution_count": 10,
   "metadata": {},
   "outputs": [
    {
     "name": "stdout",
     "output_type": "stream",
     "text": [
      "mc:  <s1s2model.MC object at 0x7f8025c52d00>\n",
      "current_time: 20.0\n",
      "aggregate_reward: 10.0\n",
      "aggregate_cost: 0\n",
      "aggregate_duration: 20.0\n"
     ]
    }
   ],
   "source": [
    "# Print status at the end\n",
    "a.printAgentSystem()"
   ]
  },
  {
   "cell_type": "code",
   "execution_count": null,
   "metadata": {},
   "outputs": [],
   "source": []
  },
  {
   "cell_type": "markdown",
   "metadata": {},
   "source": [
    "# More Complex Behavior"
   ]
  },
  {
   "cell_type": "code",
   "execution_count": null,
   "metadata": {},
   "outputs": [],
   "source": [
    "# Reference: Pomegranate library usage\n",
    "#  - https://github.com/biplav-s/course-d2d-ai/blob/main/sample-code/l17-uncertainty/DecisionMaking%20Uncertainty.ipynb\n",
    "#  - https://github.com/jmschrei/pomegranate/blob/master/tutorials/B_Model_Tutorial_1_Distributions.ipynb"
   ]
  },
  {
   "cell_type": "code",
   "execution_count": null,
   "metadata": {},
   "outputs": [],
   "source": [
    "## Install as needed\n",
    "#!pip install pomegranate"
   ]
  },
  {
   "cell_type": "code",
   "execution_count": null,
   "metadata": {},
   "outputs": [],
   "source": [
    "# Imports and setup\n",
    "%matplotlib inline\n",
    "import matplotlib.pyplot as plt\n",
    "import seaborn; seaborn.set_style('whitegrid')\n",
    "import numpy\n",
    "\n",
    "from pomegranate import *\n"
   ]
  },
  {
   "cell_type": "code",
   "execution_count": null,
   "metadata": {},
   "outputs": [],
   "source": [
    "# Initially the door selected by the guest is completely random\n",
    "s1_actions = DiscreteDistribution( { 'a1': 1./4, 'a2': 3./4} )\n",
    "s2_actions = DiscreteDistribution( { 'a1': 1./2, 'a2': 1./2} )"
   ]
  },
  {
   "cell_type": "code",
   "execution_count": null,
   "metadata": {},
   "outputs": [],
   "source": [
    "# Checking out some sample data\n",
    "for i in range(10):\n",
    "    print (s1_actions.sample())"
   ]
  },
  {
   "cell_type": "code",
   "execution_count": null,
   "metadata": {},
   "outputs": [],
   "source": [
    "# Docs: https://pomegranate.readthedocs.io/en/latest/Distributions.html#pomegranate.distributions.DiscreteDistribution\n",
    "# Getting probability of an action\n",
    "print (s1_actions.probability('a1'))"
   ]
  },
  {
   "cell_type": "code",
   "execution_count": null,
   "metadata": {},
   "outputs": [],
   "source": []
  },
  {
   "cell_type": "code",
   "execution_count": null,
   "metadata": {},
   "outputs": [],
   "source": []
  }
 ],
 "metadata": {
  "kernelspec": {
   "display_name": "Python 3",
   "language": "python",
   "name": "python3"
  },
  "language_info": {
   "codemirror_mode": {
    "name": "ipython",
    "version": 3
   },
   "file_extension": ".py",
   "mimetype": "text/x-python",
   "name": "python",
   "nbconvert_exporter": "python",
   "pygments_lexer": "ipython3",
   "version": "3.8.3"
  }
 },
 "nbformat": 4,
 "nbformat_minor": 4
}
